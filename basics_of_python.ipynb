{
 "cells": [
  {
   "cell_type": "code",
   "execution_count": 2,
   "metadata": {},
   "outputs": [
    {
     "name": "stdout",
     "output_type": "stream",
     "text": [
      "1\n",
      "34.6\n",
      "W\n"
     ]
    }
   ],
   "source": [
    "A,B,C=1,34.6,\"W\"\n",
    "print(A)\n",
    "print(B)\n",
    "print(C)"
   ]
  },
  {
   "cell_type": "code",
   "execution_count": 1,
   "metadata": {},
   "outputs": [
    {
     "name": "stdout",
     "output_type": "stream",
     "text": [
      "enter num45\n",
      "<class 'str'>\n",
      "90\n",
      "4545\n"
     ]
    }
   ],
   "source": [
    "#3\n",
    "#python accepts every user input in form of string \n",
    "io=input(\"enter num\")\n",
    "print(type(io))\n",
    "#to apply any mathematical operation casting is imp\n",
    "sum1=int(io)+int(io)\n",
    "sum=io+io #\"+\"acts as concatenation character \n",
    "print(sum1)\n",
    "print(sum)\n",
    " "
   ]
  },
  {
   "cell_type": "code",
   "execution_count": 17,
   "metadata": {},
   "outputs": [
    {
     "name": "stdout",
     "output_type": "stream",
     "text": [
      "('abcd', 786, 2.23, 'john', 70.2)\n",
      "['abcd', 786, 1000, 'john', 70.2]\n"
     ]
    }
   ],
   "source": [
    "#4\n",
    "tuple = ( 'abcd', 786 , 2.23, 'john', 70.2  )\n",
    "list = [ 'abcd', 786 , 2.23, 'john', 70.2  ]\n",
    "#tuple[2] = 1000    # Invalid syntax with tuple, tuple cannot be updated whereas lists can be\n",
    "list[2] = 1000 \n",
    "print(tuple)\n",
    "print(list)"
   ]
  },
  {
   "cell_type": "code",
   "execution_count": 19,
   "metadata": {},
   "outputs": [
    {
     "name": "stdout",
     "output_type": "stream",
     "text": [
      "('abcd', 786, 2.23, 'john', 70.2, 'abcd', 786, 2.23, 'john', 70.2)\n",
      "('abcd', 786, 2.23, 'john', 70.2, 'abcd', 786, 2.23, 'john', 70.2)\n"
     ]
    }
   ],
   "source": [
    "print (tuple * 2)       # Prints the contents of the tuple twice\n",
    "print (tuple + tuple)"
   ]
  },
  {
   "cell_type": "code",
   "execution_count": 5,
   "metadata": {},
   "outputs": [
    {
     "name": "stdout",
     "output_type": "stream",
     "text": [
      "{1: 'adani', 2: 'collabera'}\n",
      "<class 'dict'>\n",
      "<class 'dict_values'>\n"
     ]
    }
   ],
   "source": [
    "dict={1:'adani'} #dict can be changed later, mutable data type\n",
    "dict[2]=\"collabera\"\n",
    "print(dict)\n",
    "print(type(dict))\n",
    "list_dict=dict.values()\n",
    "print(type(list_dict))"
   ]
  },
  {
   "cell_type": "code",
   "execution_count": 19,
   "metadata": {},
   "outputs": [
    {
     "name": "stdout",
     "output_type": "stream",
     "text": [
      "<class 'str'>\n"
     ]
    }
   ],
   "source": [
    "fruits = [\"apple\", \"banana\", \"cherry\"]\n",
    "x, y, z = fruits\n",
    "\n",
    "print(type(x))"
   ]
  },
  {
   "cell_type": "code",
   "execution_count": 22,
   "metadata": {},
   "outputs": [
    {
     "name": "stdout",
     "output_type": "stream",
     "text": [
      "<class 'str'> apple\n",
      "banana\n",
      " ['apple', 'cherry'] \n",
      "pineapple\n"
     ]
    }
   ],
   "source": [
    "#5\n",
    "fruits = [\"apple\", \"banana\", \"cherry\"]\n",
    "x, y, z = fruits\n",
    "\n",
    "print(type(x),x)\n",
    "#If you have a collection of values in a \n",
    "#list, tuple etc. Python allows you extract the values into variables. This is called unpacking.\n",
    "#unpacking a tuple:to extract the values back into variables.\n",
    "#* is used for printing many than one variable in a list\n",
    "fruits=(\"banana\",\"apple\",\"cherry\",\"pineapple\")\n",
    "(white,*red,yellow)=fruits\n",
    "\n",
    "#below print statement signifies use of ((\",\"-- printing three variables(any type)) , \"+\" operator)\n",
    "#\"+\" operator is for concatenation so cannot be used with #red as it is a list\n",
    "#therefore this is the way to print the following values for three diff lines\n",
    "print(white + \"\\n\" ,red ,\"\\n\" + yellow)"
   ]
  },
  {
   "cell_type": "code",
   "execution_count": 6,
   "metadata": {
    "scrolled": false
   },
   "outputs": [
    {
     "name": "stdout",
     "output_type": "stream",
     "text": [
      "10.9\n"
     ]
    }
   ],
   "source": [
    "#6\n",
    "#a string containing numbers can only be converted to float/int\n",
    "srty=\"10.9\"\n",
    "s=float(srty)\n",
    "print((s))"
   ]
  },
  {
   "cell_type": "code",
   "execution_count": 5,
   "metadata": {},
   "outputs": [
    {
     "name": "stdout",
     "output_type": "stream",
     "text": [
      "{'dt': 'ty', 'date': 9}\n",
      "<class 'dict'>\n"
     ]
    }
   ],
   "source": [
    "#creation of dictionary using dict() func\n",
    "d=dict(dt=\"ty\",date=9)\n",
    "print(d)\n",
    "print(type\n",
    "     (d))\n"
   ]
  },
  {
   "cell_type": "code",
   "execution_count": 10,
   "metadata": {},
   "outputs": [
    {
     "name": "stdout",
     "output_type": "stream",
     "text": [
      "!\n"
     ]
    }
   ],
   "source": [
    "#printing last element using neg index\n",
    "b = \"Hello, World!\"\n",
    "print(b[-1])"
   ]
  },
  {
   "cell_type": "code",
   "execution_count": 8,
   "metadata": {},
   "outputs": [
    {
     "name": "stdout",
     "output_type": "stream",
     "text": [
      "My name is John, I am 56\n",
      "the wonder 45\n"
     ]
    }
   ],
   "source": [
    "#str with str\n",
    "txt = \"My name is John, I am \"\n",
    "print(txt+ \"56\")\n",
    "\n",
    "#str to a int value\n",
    "i=45\n",
    "print(\"the wonder\",i)"
   ]
  },
  {
   "cell_type": "code",
   "execution_count": 1,
   "metadata": {},
   "outputs": [
    {
     "name": "stdout",
     "output_type": "stream",
     "text": [
      "I want 3 pieces of item 567 for 49.95 dollars.\n"
     ]
    }
   ],
   "source": [
    "#1\n",
    "#appending numbers with string we use format() method where we cant use \"+\" symbol\n",
    "quantity = 3\n",
    "itemno = 567\n",
    "price = 49.95\n",
    "myorder = \"I want {} pieces of item {} for {} dollars.\"\n",
    "print(myorder.format(quantity, itemno, price))"
   ]
  },
  {
   "cell_type": "code",
   "execution_count": 9,
   "metadata": {},
   "outputs": [
    {
     "name": "stdout",
     "output_type": "stream",
     "text": [
      "We are the so-called \"Vikings\" from the north.\n"
     ]
    }
   ],
   "source": [
    "#2\n",
    "#use \"\\\" (escape character) to print illegal characters in a string\n",
    "txt = \"We are the so-called \\\"Vikings\\\" from the north.\"\n",
    "print(txt) "
   ]
  },
  {
   "cell_type": "code",
   "execution_count": 4,
   "metadata": {},
   "outputs": [
    {
     "name": "stdout",
     "output_type": "stream",
     "text": [
      "great ?life ?series\n"
     ]
    }
   ],
   "source": [
    "#7\n",
    "#joins tuple/dict(keys) elements and forms string\n",
    "t=(\"great\",\"life\",\"series\")\n",
    "print(\" ?\".join(t))"
   ]
  },
  {
   "cell_type": "code",
   "execution_count": 2,
   "metadata": {},
   "outputs": [
    {
     "name": "stdout",
     "output_type": "stream",
     "text": [
      "~a = 6\n"
     ]
    }
   ],
   "source": [
    "#8\n",
    "# Print bitwise NOT operation\n",
    "a=-7\n",
    "print(\"~a =\", ~a)"
   ]
  },
  {
   "cell_type": "code",
   "execution_count": 12,
   "metadata": {},
   "outputs": [
    {
     "name": "stdout",
     "output_type": "stream",
     "text": [
      "['apple', 'banana']\n"
     ]
    }
   ],
   "source": [
    "#9\n",
    "#using list comprehension for making and printing list containing only first 2 items of fruits\n",
    "\n",
    "fruits = [\"apple\", \"banana\", \"cherry\", \"kiwi\", \"mango\"]\n",
    "\n",
    "newlis = [x for x in fruits if x<fruits[2]]\n",
    "\n",
    "print(newlis)\n"
   ]
  },
  {
   "cell_type": "code",
   "execution_count": 11,
   "metadata": {},
   "outputs": [
    {
     "name": "stdout",
     "output_type": "stream",
     "text": [
      "1abcdef\n"
     ]
    }
   ],
   "source": [
    "#10 center func for string \n",
    "#first digit donates total characters and the second one the padding character\n",
    "#write string then subtract the len from the first digit then start writing one padding digit on left then \n",
    "#(if pending) right\n",
    "print(\"abcdef\".center(7, '1'))\n",
    "    "
   ]
  },
  {
   "cell_type": "code",
   "execution_count": 5,
   "metadata": {},
   "outputs": [
    {
     "name": "stdout",
     "output_type": "stream",
     "text": [
      "*abcde *\n"
     ]
    }
   ],
   "source": [
    "#padding is done on the right hand side first if the final string's len is even #6\n",
    "print('*', \"abcde\".center(6), '*', sep='')"
   ]
  },
  {
   "cell_type": "code",
   "execution_count": 1,
   "metadata": {},
   "outputs": [
    {
     "name": "stdout",
     "output_type": "stream",
     "text": [
      "Asd. def\n"
     ]
    }
   ],
   "source": [
    "print(\"aSD. DEF\".capitalize())"
   ]
  },
  {
   "cell_type": "code",
   "execution_count": 14,
   "metadata": {},
   "outputs": [
    {
     "name": "stdout",
     "output_type": "stream",
     "text": [
      "The youngest child is Emil\n",
      "<class 'tuple'>\n"
     ]
    }
   ],
   "source": [
    "def my_function(*kids):\n",
    "  print(\"The youngest child is \" + kids[len(kids)-1])\n",
    "  print(type(kids))\n",
    "\n",
    "my_function(\"Emil\", \"Tobias\", \"Linus\",\"Emil\")\n"
   ]
  },
  {
   "cell_type": "code",
   "execution_count": 15,
   "metadata": {},
   "outputs": [
    {
     "name": "stdout",
     "output_type": "stream",
     "text": [
      "15\n"
     ]
    }
   ],
   "source": [
    "#11\n",
    "#option 1 for printing value along with return keyword\n",
    "def my_function(x):\n",
    "  return print(5 * x)\n",
    "\n",
    "my_function(3)\n",
    "#option 2\n",
    "#print(my_function(5))"
   ]
  },
  {
   "cell_type": "code",
   "execution_count": 18,
   "metadata": {},
   "outputs": [
    {
     "name": "stdout",
     "output_type": "stream",
     "text": [
      "2 is a prime number\n",
      "3 is a prime number\n",
      "4 equals 2 * 2.0\n",
      "5 is a prime number\n",
      "6 equals 2 * 3.0\n",
      "7 is a prime number\n",
      "8 equals 2 * 4.0\n",
      "9 equals 3 * 3.0\n"
     ]
    }
   ],
   "source": [
    "#in comparison with the below one\n",
    "#check why for/else block(with break) is used instead of if/else\n",
    "\n",
    "for n in range(2, 10):\n",
    "    for x in range(2, n):\n",
    "        if n % x == 0:\n",
    "            print( n, 'equals', x, '*', n/x)\n",
    "            break\n",
    "    else:\n",
    "        # loop fell through without finding a factor\n",
    "        print(n, 'is a prime number')"
   ]
  },
  {
   "cell_type": "code",
   "execution_count": 21,
   "metadata": {},
   "outputs": [
    {
     "name": "stdout",
     "output_type": "stream",
     "text": [
      "3 is a prime number\n",
      "4 equals 2 * 2.0\n",
      "5 is a prime number\n",
      "6 equals 2 * 3.0\n",
      "7 is a prime number\n",
      "8 equals 2 * 4.0\n",
      "9 is a prime number\n"
     ]
    }
   ],
   "source": [
    "for n in range(2, 10):\n",
    "    for x in range(2, n):\n",
    "        if n % x == 0:\n",
    "            print( n, 'equals', x, '*', n/x)\n",
    "            break\n",
    "        else:\n",
    "        # loop fell through without finding a factor\n",
    "            print(n, 'is a prime number')\n",
    "            break"
   ]
  },
  {
   "cell_type": "code",
   "execution_count": 35,
   "metadata": {},
   "outputs": [
    {
     "name": "stdout",
     "output_type": "stream",
     "text": [
      "[1, 2, 45, 6, 2, 1, 2]\n",
      "[1, 2, 45, 6]\n",
      "<class 'list'>\n"
     ]
    }
   ],
   "source": [
    "#getting distinct value from a list\n",
    "cars=[1,2,45,6,2,1,2]\n",
    "print(cars)\n",
    "cars=list(set(cars))\n",
    "print(cars)\n",
    "print(type(cars))\n"
   ]
  },
  {
   "cell_type": "code",
   "execution_count": 3,
   "metadata": {},
   "outputs": [
    {
     "name": "stdout",
     "output_type": "stream",
     "text": [
      "['BooleanDtype', 'Categorical', 'CategoricalDtype', 'CategoricalIndex', 'DataFrame', 'DateOffset', 'DatetimeIndex', 'DatetimeTZDtype', 'ExcelFile', 'ExcelWriter', 'Float64Index', 'Grouper', 'HDFStore', 'Index', 'IndexSlice', 'Int16Dtype', 'Int32Dtype', 'Int64Dtype', 'Int64Index', 'Int8Dtype', 'Interval', 'IntervalDtype', 'IntervalIndex', 'MultiIndex', 'NA', 'NaT', 'NamedAgg', 'Period', 'PeriodDtype', 'PeriodIndex', 'RangeIndex', 'Series', 'SparseDtype', 'StringDtype', 'Timedelta', 'TimedeltaIndex', 'Timestamp', 'UInt16Dtype', 'UInt32Dtype', 'UInt64Dtype', 'UInt64Index', 'UInt8Dtype', '__builtins__', '__cached__', '__doc__', '__docformat__', '__file__', '__getattr__', '__git_version__', '__loader__', '__name__', '__package__', '__path__', '__spec__', '__version__', '_config', '_hashtable', '_is_numpy_dev', '_lib', '_libs', '_np_version_under1p16', '_np_version_under1p17', '_np_version_under1p18', '_testing', '_tslib', '_typing', '_version', 'api', 'array', 'arrays', 'bdate_range', 'compat', 'concat', 'core', 'crosstab', 'cut', 'date_range', 'describe_option', 'errors', 'eval', 'factorize', 'get_dummies', 'get_option', 'infer_freq', 'interval_range', 'io', 'isna', 'isnull', 'json_normalize', 'lreshape', 'melt', 'merge', 'merge_asof', 'merge_ordered', 'notna', 'notnull', 'offsets', 'option_context', 'options', 'pandas', 'period_range', 'pivot', 'pivot_table', 'plotting', 'qcut', 'read_clipboard', 'read_csv', 'read_excel', 'read_feather', 'read_fwf', 'read_gbq', 'read_hdf', 'read_html', 'read_json', 'read_orc', 'read_parquet', 'read_pickle', 'read_sas', 'read_spss', 'read_sql', 'read_sql_query', 'read_sql_table', 'read_stata', 'read_table', 'reset_option', 'set_eng_float_format', 'set_option', 'show_versions', 'test', 'testing', 'timedelta_range', 'to_datetime', 'to_numeric', 'to_pickle', 'to_timedelta', 'tseries', 'unique', 'util', 'value_counts', 'wide_to_long']\n"
     ]
    }
   ],
   "source": [
    "import pandas as np\n",
    "x=dir(np)\n",
    "print(x)"
   ]
  }
 ],
 "metadata": {
  "kernelspec": {
   "display_name": "Python 3",
   "language": "python",
   "name": "python3"
  },
  "language_info": {
   "codemirror_mode": {
    "name": "ipython",
    "version": 3
   },
   "file_extension": ".py",
   "mimetype": "text/x-python",
   "name": "python",
   "nbconvert_exporter": "python",
   "pygments_lexer": "ipython3",
   "version": "3.8.5"
  }
 },
 "nbformat": 4,
 "nbformat_minor": 4
}
